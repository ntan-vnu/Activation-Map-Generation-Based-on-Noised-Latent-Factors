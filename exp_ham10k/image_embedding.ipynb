{
  "cells": [
    {
      "cell_type": "markdown",
      "metadata": {
        "id": "5117EyUabI6W"
      },
      "source": [
        "# Initialization"
      ]
    },
    {
      "cell_type": "code",
      "execution_count": 1,
      "metadata": {
        "id": "XHpn0If6Czz7"
      },
      "outputs": [
        {
          "name": "stderr",
          "output_type": "stream",
          "text": [
            "2024-07-08 15:42:25.947593: I tensorflow/core/platform/cpu_feature_guard.cc:210] This TensorFlow binary is optimized to use available CPU instructions in performance-critical operations.\n",
            "To enable the following instructions: AVX2 FMA, in other operations, rebuild TensorFlow with the appropriate compiler flags.\n"
          ]
        }
      ],
      "source": [
        "import tensorflow as tf\n",
        "import numpy as np\n",
        "import cv2\n",
        "import glob\n"
      ]
    },
    {
      "cell_type": "code",
      "execution_count": null,
      "metadata": {
        "id": "mfN-7I0_Dtvr"
      },
      "outputs": [],
      "source": [
        "import configs"
      ]
    },
    {
      "cell_type": "markdown",
      "metadata": {
        "id": "cs9bS9YY9eq5"
      },
      "source": [
        "# Extractor Implementation"
      ]
    },
    {
      "cell_type": "code",
      "execution_count": null,
      "metadata": {
        "colab": {
          "base_uri": "https://localhost:8080/"
        },
        "id": "O49mxKjK9hxG",
        "outputId": "7c7e801a-908f-49c0-d57a-e5781499183e"
      },
      "outputs": [
        {
          "name": "stdout",
          "output_type": "stream",
          "text": [
            "Model: \"model_2\"\n",
            "_________________________________________________________________\n",
            " Layer (type)                Output Shape              Param #   \n",
            "=================================================================\n",
            " input_15 (InputLayer)       [(None, 224, 224, 3)]     0         \n",
            "                                                                 \n",
            " conv2d_181 (Conv2D)         (None, 224, 224, 64)      1792      \n",
            "                                                                 \n",
            " conv2d_182 (Conv2D)         (None, 224, 224, 64)      36928     \n",
            "                                                                 \n",
            " max_pooling2d_49 (MaxPooli  (None, 112, 112, 64)      0         \n",
            " ng2D)                                                           \n",
            "                                                                 \n",
            " dropout_88 (Dropout)        (None, 112, 112, 64)      0         \n",
            "                                                                 \n",
            " conv2d_183 (Conv2D)         (None, 112, 112, 128)     73856     \n",
            "                                                                 \n",
            " conv2d_184 (Conv2D)         (None, 112, 112, 128)     147584    \n",
            "                                                                 \n",
            " max_pooling2d_50 (MaxPooli  (None, 56, 56, 128)       0         \n",
            " ng2D)                                                           \n",
            "                                                                 \n",
            " dropout_89 (Dropout)        (None, 56, 56, 128)       0         \n",
            "                                                                 \n",
            " conv2d_185 (Conv2D)         (None, 56, 56, 256)       295168    \n",
            "                                                                 \n",
            " conv2d_186 (Conv2D)         (None, 56, 56, 256)       590080    \n",
            "                                                                 \n",
            " max_pooling2d_51 (MaxPooli  (None, 28, 28, 256)       0         \n",
            " ng2D)                                                           \n",
            "                                                                 \n",
            " dropout_90 (Dropout)        (None, 28, 28, 256)       0         \n",
            "                                                                 \n",
            " conv2d_187 (Conv2D)         (None, 28, 28, 512)       1180160   \n",
            "                                                                 \n",
            " conv2d_188 (Conv2D)         (None, 28, 28, 512)       2359808   \n",
            "                                                                 \n",
            " global_average_pooling2d_4  (None, 512)               0         \n",
            "  (GlobalAveragePooling2D)                                       \n",
            "                                                                 \n",
            "=================================================================\n",
            "Total params: 4685376 (17.87 MB)\n",
            "Trainable params: 4685376 (17.87 MB)\n",
            "Non-trainable params: 0 (0.00 Byte)\n",
            "_________________________________________________________________\n"
          ]
        }
      ],
      "source": [
        "model = tf.keras.models.load_model(configs.CGUNET_CHECKPOINT)\n",
        "extractor = tf.keras.Model(model.input,\n",
        "                           model.get_layer('global_average_pooling2d_4').output)\n",
        "extractor.load_weights(configs.CGUNET_CHECKPOINT)\n",
        "extractor.summary()"
      ]
    },
    {
      "cell_type": "markdown",
      "metadata": {},
      "source": [
        "# Data Loader"
      ]
    },
    {
      "cell_type": "code",
      "execution_count": null,
      "metadata": {},
      "outputs": [],
      "source": [
        "class MyDataGenerator(tf.keras.utils.Sequence):\n",
        "    def __init__(self, data_dir, batch_size=32, shuffle=True):\n",
        "        self.batch_size = batch_size\n",
        "        self.shuffle = shuffle\n",
        "        self.filenames = glob.glob(data_dir + '/*/*.jpg')\n",
        "        self.filenames.sort()\n",
        "        print(len(self.filenames), 'found')\n",
        "        self.classnames = ['/akiec/', '/bcc/', '/bkl/',\n",
        "                           '/df/', '/mel/', '/nv/', '/vasc/']\n",
        "        self.indices = None\n",
        "        self.on_epoch_end()\n",
        "\n",
        "    def __len__(self):\n",
        "        return int(np.ceil(len(self.filenames) / self.batch_size))\n",
        "\n",
        "    def __getitem__(self, index):\n",
        "        indices = self.indices[index*self.batch_size:(index+1)*self.batch_size]\n",
        "        filenames = [self.filenames[k] for k in indices]\n",
        "        X, Y = self.__data_generation(filenames)\n",
        "        return X, Y\n",
        "\n",
        "    def on_epoch_end(self):\n",
        "        self.indices = np.arange(len(self.filenames))\n",
        "        if self.shuffle == True:\n",
        "            np.random.shuffle(self.indices)\n",
        "\n",
        "    def filename2onehot(self, fn):\n",
        "        for i in range(configs.NUM_CLASS):\n",
        "            if self.classnames[i] in fn:\n",
        "                result = np.zeros(configs.NUM_CLASS, dtype=np.float64)\n",
        "                result[i] = 1\n",
        "                return result\n",
        "        return None\n",
        "\n",
        "    def __data_generation(self, filenames):\n",
        "        num = len(filenames)\n",
        "        X = np.empty([num, *configs.IMAGE_SIZE], dtype=np.float64)\n",
        "        Y_class = np.empty([num, configs.NUM_CLASS])\n",
        "        for i, fn in enumerate(filenames):\n",
        "            img = cv2.imread(fn)\n",
        "            delta = (configs.IMAGE_SIZE[1] - configs.IMAGE_SIZE[0]) // 2\n",
        "            img = img[:, delta:configs.IMAGE_SIZE[1]-delta-1]\n",
        "            img = cv2.resize(img, (224, 224))\n",
        "            X[i] = np.array(img, dtype=np.float64) / 255.\n",
        "            Y_class[i] = self.filename2onehot(fn)\n",
        "\n",
        "        return X, {'out_img':X, 'out_class':Y_class}"
      ]
    },
    {
      "cell_type": "markdown",
      "metadata": {},
      "source": [
        "# Extracting"
      ]
    },
    {
      "cell_type": "code",
      "execution_count": null,
      "metadata": {
        "id": "0665PkrMDQHM"
      },
      "outputs": [],
      "source": [
        "def encode_features(subset_name, decoder):\n",
        "    datagen = MyDataGenerator(configs.DATA_DIR+'/'+ subset_name, shuffle=False)\n",
        "    filenames = datagen.filenames\n",
        "    counter = 0\n",
        "    num = len(filenames)\n",
        "\n",
        "    for X, Y in datagen:\n",
        "      inc = len(X)\n",
        "      features = decoder.predict(X)\n",
        "      for i in range(inc):\n",
        "        fn = filenames[counter]\n",
        "        counter += 1\n",
        "        feat_fn = fn.replace('.jpg', '.unet.npy')\n",
        "        np.save(feat_fn, features[i])\n",
        "      print(subset_name, counter, '/', num)"
      ]
    },
    {
      "cell_type": "code",
      "execution_count": null,
      "metadata": {
        "colab": {
          "base_uri": "https://localhost:8080/"
        },
        "id": "wYZKvKAjGfx9",
        "outputId": "d8062223-054c-46fd-f96c-936e56eb6920"
      },
      "outputs": [
        {
          "name": "stdout",
          "output_type": "stream",
          "text": [
            "test 3010 / 3010\n"
          ]
        }
      ],
      "source": [
        "encode_features('train', extractor)\n",
        "encode_features('val', extractor)\n",
        "encode_features('test', extractor)"
      ]
    }
  ],
  "metadata": {
    "accelerator": "GPU",
    "colab": {
      "collapsed_sections": [
        "981K5sQJLMZe",
        "cs9bS9YY9eq5"
      ],
      "gpuType": "T4",
      "provenance": [],
      "toc_visible": true
    },
    "kernelspec": {
      "display_name": "Python 3",
      "name": "python3"
    },
    "language_info": {
      "codemirror_mode": {
        "name": "ipython",
        "version": 3
      },
      "file_extension": ".py",
      "mimetype": "text/x-python",
      "name": "python",
      "nbconvert_exporter": "python",
      "pygments_lexer": "ipython3",
      "version": "3.9.6"
    }
  },
  "nbformat": 4,
  "nbformat_minor": 0
}
